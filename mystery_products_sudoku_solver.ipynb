{
 "cells": [
  {
   "cell_type": "markdown",
   "metadata": {},
   "source": [
    "# Solver for Qodec's mystery products sudoku\n",
    "https://logic-masters.de/Raetselportal/Raetsel/zeigen.php?id=00047R"
   ]
  },
  {
   "cell_type": "code",
   "execution_count": null,
   "metadata": {},
   "outputs": [],
   "source": [
    "from ortools.sat.python import cp_model"
   ]
  },
  {
   "cell_type": "markdown",
   "metadata": {},
   "source": [
    "## Define the Sudoku board"
   ]
  },
  {
   "cell_type": "code",
   "execution_count": 2,
   "metadata": {},
   "outputs": [],
   "source": [
    "model = cp_model.CpModel()\n",
    "def create_row_vars(y):\n",
    "    return [model.NewIntVar(1, 9, 'x:{},y:{}'.format(x,y)) for x in range(9)] \n",
    "nodes = [create_row_vars(y) for y in range(9)]"
   ]
  },
  {
   "cell_type": "markdown",
   "metadata": {},
   "source": [
    "## Add the normal sudoku constraints"
   ]
  },
  {
   "cell_type": "code",
   "execution_count": 3,
   "metadata": {},
   "outputs": [],
   "source": [
    "for x in range(9):\n",
    "    model.AddAllDifferent(nodes[x])"
   ]
  },
  {
   "cell_type": "code",
   "execution_count": 4,
   "metadata": {},
   "outputs": [],
   "source": [
    "for y in range(9):\n",
    "    model.AddAllDifferent([nodes[x][y] for x in range(9)])"
   ]
  },
  {
   "cell_type": "code",
   "execution_count": 5,
   "metadata": {},
   "outputs": [],
   "source": [
    "for x_offset in range(0, 9, 3):\n",
    "    for y_offset in range(0, 9, 3):\n",
    "        square = []\n",
    "        for x in range(3):\n",
    "            for y in range(3):\n",
    "                square.append(nodes[x_offset+x][y_offset+y])\n",
    "        model.AddAllDifferent(square)"
   ]
  },
  {
   "cell_type": "markdown",
   "metadata": {},
   "source": [
    "## Defining cage groups"
   ]
  },
  {
   "cell_type": "code",
   "execution_count": 6,
   "metadata": {},
   "outputs": [],
   "source": [
    "import math\n",
    "def cage_group(name, cg, model):\n",
    "    lengths = [len(cage) for cage in cg]\n",
    "    min_len = min(lengths)\n",
    "    max_len = max(lengths)\n",
    "    min_magic = math.factorial(max_len)\n",
    "    max_magic = int(math.factorial(9)/math.factorial(9-min_len))\n",
    "    magic_nr = model.NewIntVar(min_magic, max_magic, 'magic_nr_{}'.format(name))\n",
    "    for i, cage in enumerate(cg):\n",
    "        model.AddAllDifferent(cage)\n",
    "        if len(cage)==1:\n",
    "            model.Add(magic_nr==cage[0])\n",
    "        elif len(cage)==2:\n",
    "            model.AddMultiplicationEquality(magic_nr,[cage[0],cage[1]])\n",
    "        else:\n",
    "            mul = model.NewIntVar(1, max_magic, 'magic_mul{}{}_{}'.format(i,1,name))\n",
    "            model.AddMultiplicationEquality(mul, [cage[0], cage[1]])         \n",
    "            for j in range(2,len(cage)-1):\n",
    "                prev_mul = mul\n",
    "                mul = model.NewIntVar(1, 9**min_len, 'magic_mul{}{}_{}'.format(i,j,name))\n",
    "                model.AddMultiplicationEquality(mul, [prev_mul, cage[j]])                        \n",
    "            model.AddMultiplicationEquality(magic_nr,[mul,cage[len(cage)-1]])\n",
    "    return magic_nr"
   ]
  },
  {
   "cell_type": "markdown",
   "metadata": {},
   "source": [
    "## Defining the puzzle"
   ]
  },
  {
   "cell_type": "code",
   "execution_count": 7,
   "metadata": {},
   "outputs": [
    {
     "data": {
      "text/plain": [
       "<ortools.sat.python.cp_model.Constraint at 0x7f2f7c2016a0>"
      ]
     },
     "execution_count": 7,
     "metadata": {},
     "output_type": "execute_result"
    }
   ],
   "source": [
    "model.Add(nodes[0][0]==7)"
   ]
  },
  {
   "cell_type": "code",
   "execution_count": 8,
   "metadata": {},
   "outputs": [
    {
     "data": {
      "text/plain": [
       "magic_nr_blue(6..72)"
      ]
     },
     "execution_count": 8,
     "metadata": {},
     "output_type": "execute_result"
    }
   ],
   "source": [
    "cage_group(\"blue\",[[nodes[2][1],nodes[1][2],nodes[2][2]],\n",
    "                   [nodes[4][3],nodes[3][4],nodes[4][4]],\n",
    "                   [nodes[6][5],nodes[6][6]],\n",
    "                   [nodes[4][8],nodes[5][8]]\n",
    "                  ], model)"
   ]
  },
  {
   "cell_type": "code",
   "execution_count": 9,
   "metadata": {},
   "outputs": [
    {
     "data": {
      "text/plain": [
       "magic_nr_green(24..72)"
      ]
     },
     "execution_count": 9,
     "metadata": {},
     "output_type": "execute_result"
    }
   ],
   "source": [
    "cage_group(\"green\",[[nodes[3][0],nodes[4][0],nodes[3][1]],\n",
    "                    [nodes[8][4],nodes[8][5]],\n",
    "                    [nodes[6][7], nodes[7][7], nodes[6][8], nodes[7][8]]\n",
    "                   ], model)"
   ]
  },
  {
   "cell_type": "code",
   "execution_count": 10,
   "metadata": {},
   "outputs": [
    {
     "data": {
      "text/plain": [
       "magic_nr_yellow(2..9)"
      ]
     },
     "execution_count": 10,
     "metadata": {},
     "output_type": "execute_result"
    }
   ],
   "source": [
    "cage_group(\"yellow\",[[nodes[7][0],nodes[8][0]],\n",
    "                     [nodes[0][4]],\n",
    "                     [nodes[0][7],nodes[0][8]]\n",
    "                   ], model)"
   ]
  },
  {
   "cell_type": "code",
   "execution_count": 11,
   "metadata": {},
   "outputs": [
    {
     "data": {
      "text/plain": [
       "magic_nr_purple(24..72)"
      ]
     },
     "execution_count": 11,
     "metadata": {},
     "output_type": "execute_result"
    }
   ],
   "source": [
    "cage_group(\"purple\",[[nodes[5][2],nodes[5][3],nodes[6][3]],\n",
    "                     [nodes[2][5],nodes[3][5],nodes[3][6]],\n",
    "                     [nodes[5][6],nodes[4][7],nodes[5][7]],\n",
    "                     [nodes[7][4],nodes[7][5],nodes[7][6],nodes[8][6]],\n",
    "                     [nodes[8][7],nodes[8][8]]\n",
    "                   ], model)"
   ]
  },
  {
   "cell_type": "markdown",
   "metadata": {},
   "source": [
    "## Solving the puzzle"
   ]
  },
  {
   "cell_type": "code",
   "execution_count": 12,
   "metadata": {},
   "outputs": [
    {
     "data": {
      "text/plain": [
       "4"
      ]
     },
     "execution_count": 12,
     "metadata": {},
     "output_type": "execute_result"
    }
   ],
   "source": [
    "solver = cp_model.CpSolver()\n",
    "solver.Solve(model)"
   ]
  },
  {
   "cell_type": "code",
   "execution_count": 13,
   "metadata": {},
   "outputs": [],
   "source": [
    "def print_solution(solver, nodes):\n",
    "    for y in range(9):\n",
    "        if(y%3==0):\n",
    "            print(\"\")            \n",
    "        for x in range(9):\n",
    "            if(x%3 == 0):\n",
    "                print(\" \", end='')\n",
    "            print(solver.Value(nodes[x][y]), end='')            \n",
    "        print(\"\")\n",
    "    "
   ]
  },
  {
   "cell_type": "code",
   "execution_count": 14,
   "metadata": {},
   "outputs": [
    {
     "name": "stdout",
     "output_type": "stream",
     "text": [
      "\n",
      " 794 325 681\n",
      " 628 791 453\n",
      " 315 864 792\n",
      "\n",
      " 137 689 245\n",
      " 842 517 936\n",
      " 569 432 817\n",
      "\n",
      " 981 273 564\n",
      " 253 946 178\n",
      " 476 158 329\n"
     ]
    }
   ],
   "source": [
    "print_solution(solver,nodes)"
   ]
  },
  {
   "cell_type": "code",
   "execution_count": 15,
   "metadata": {},
   "outputs": [
    {
     "name": "stdout",
     "output_type": "stream",
     "text": [
      "CpSolverResponse:\n",
      "status: OPTIMAL\n",
      "objective: 0\n",
      "best_bound: 0\n",
      "booleans: 215\n",
      "conflicts: 10769662\n",
      "branches: 15102383\n",
      "propagations: 232799944\n",
      "integer_propagations: 776360156\n",
      "walltime: 1104.53\n",
      "usertime: 1104.53\n",
      "deterministic_time: 345.749\n",
      "primal_integral: 0\n",
      "\n"
     ]
    }
   ],
   "source": [
    "print(solver.ResponseStats())"
   ]
  },
  {
   "cell_type": "code",
   "execution_count": null,
   "metadata": {},
   "outputs": [],
   "source": []
  }
 ],
 "metadata": {
  "kernelspec": {
   "display_name": "Python 3",
   "language": "python",
   "name": "python3"
  },
  "language_info": {
   "codemirror_mode": {
    "name": "ipython",
    "version": 3
   },
   "file_extension": ".py",
   "mimetype": "text/x-python",
   "name": "python",
   "nbconvert_exporter": "python",
   "pygments_lexer": "ipython3",
   "version": "3.8.3"
  }
 },
 "nbformat": 4,
 "nbformat_minor": 4
}
