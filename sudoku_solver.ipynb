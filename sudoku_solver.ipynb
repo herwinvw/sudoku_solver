{
 "cells": [
  {
   "cell_type": "code",
   "execution_count": 108,
   "metadata": {},
   "outputs": [],
   "source": [
    "from ortools.sat.python import cp_model"
   ]
  },
  {
   "cell_type": "code",
   "execution_count": 118,
   "metadata": {},
   "outputs": [],
   "source": [
    "model = cp_model.CpModel()\n",
    "def create_row_vars(y):\n",
    "    return [model.NewIntVar(1, 9, 'x:{},y:{}'.format(x,y)) for x in range(9)] \n",
    "nodes = [create_row_vars(y) for y in range(9)]"
   ]
  },
  {
   "cell_type": "code",
   "execution_count": 110,
   "metadata": {},
   "outputs": [],
   "source": [
    "for x in range(9):\n",
    "    model.AddAllDifferent(nodes[x])"
   ]
  },
  {
   "cell_type": "code",
   "execution_count": 111,
   "metadata": {},
   "outputs": [],
   "source": [
    "for y in range(9):\n",
    "    model.AddAllDifferent([nodes[x][y] for x in range(9)])"
   ]
  },
  {
   "cell_type": "code",
   "execution_count": 112,
   "metadata": {},
   "outputs": [],
   "source": [
    "for x_offset in range(0, 9, 3):\n",
    "    for y_offset in range(0, 9, 3):\n",
    "        square = []\n",
    "        for x in range(3):\n",
    "            for y in range(3):\n",
    "                square.append(nodes[x_offset+x][y_offset+y])\n",
    "        model.AddAllDifferent(square)"
   ]
  },
  {
   "cell_type": "code",
   "execution_count": 113,
   "metadata": {},
   "outputs": [],
   "source": [
    "puzzle = [[3,0,5,  0,0,7,  0,0,0],\n",
    "          [0,0,0,  9,0,8,  4,0,0],\n",
    "          [0,0,0,  0,0,0,  2,7,9],\n",
    "          \n",
    "          [5,0,0,  0,7,0,  9,0,4],\n",
    "          [0,0,0,  5,0,6,  0,0,0],\n",
    "          [7,0,8,  0,4,0,  0,0,3],\n",
    "          \n",
    "          [6,5,1,  0,0,0,  0,0,0],\n",
    "          [0,0,2,  7,0,4,  0,0,0],\n",
    "          [0,0,0,  1,0,0,  8,0,2]\n",
    "         ]"
   ]
  },
  {
   "cell_type": "code",
   "execution_count": 114,
   "metadata": {},
   "outputs": [],
   "source": [
    "for x in range(9):\n",
    "    for y in range(9):\n",
    "        if puzzle[y][x] > 0:\n",
    "            model.Add(nodes[x][y] == puzzle[y][x])"
   ]
  },
  {
   "cell_type": "code",
   "execution_count": 115,
   "metadata": {},
   "outputs": [],
   "source": [
    "solver = cp_model.CpSolver()\n",
    "status = solver.Solve(model)"
   ]
  },
  {
   "cell_type": "code",
   "execution_count": 116,
   "metadata": {},
   "outputs": [],
   "source": [
    "def print_solution(solver, nodes):\n",
    "    for y in range(9):\n",
    "        if(y%3==0):\n",
    "            print(\"\")            \n",
    "        for x in range(9):\n",
    "            if(x%3 == 0):\n",
    "                print(\" \", end='')\n",
    "            print(solver.Value(nodes[x][y]), end='')            \n",
    "        print(\"\")\n",
    "    "
   ]
  },
  {
   "cell_type": "code",
   "execution_count": 117,
   "metadata": {},
   "outputs": [
    {
     "name": "stdout",
     "output_type": "stream",
     "text": [
      "\n",
      " 395 427 618\n",
      " 267 918 435\n",
      " 184 635 279\n",
      "\n",
      " 526 371 984\n",
      " 943 586 721\n",
      " 718 249 563\n",
      "\n",
      " 651 892 347\n",
      " 832 754 196\n",
      " 479 163 852\n"
     ]
    }
   ],
   "source": [
    "print_solution(solver,nodes)"
   ]
  },
  {
   "cell_type": "code",
   "execution_count": null,
   "metadata": {},
   "outputs": [],
   "source": []
  }
 ],
 "metadata": {
  "kernelspec": {
   "display_name": "Python 3",
   "language": "python",
   "name": "python3"
  },
  "language_info": {
   "codemirror_mode": {
    "name": "ipython",
    "version": 3
   },
   "file_extension": ".py",
   "mimetype": "text/x-python",
   "name": "python",
   "nbconvert_exporter": "python",
   "pygments_lexer": "ipython3",
   "version": "3.8.3"
  }
 },
 "nbformat": 4,
 "nbformat_minor": 4
}
